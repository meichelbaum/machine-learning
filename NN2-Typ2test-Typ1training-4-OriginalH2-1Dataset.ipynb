{
 "cells": [
  {
   "cell_type": "markdown",
   "metadata": {},
   "source": [
    "## Importing the libraries"
   ]
  },
  {
   "cell_type": "code",
   "execution_count": 208,
   "metadata": {},
   "outputs": [],
   "source": [
    "import numpy as np\n",
    "import matplotlib.pyplot as plt\n",
    "import pandas as pd\n",
    "import sys\n",
    "from astropy.io import ascii"
   ]
  },
  {
   "cell_type": "markdown",
   "metadata": {},
   "source": [
    "## Importing the dataset"
   ]
  },
  {
   "cell_type": "code",
   "execution_count": 209,
   "metadata": {},
   "outputs": [],
   "source": [
    "from Preprocessor4 import get_combined_dataset\n",
    "from Preprocessor4 import get_single_dataset\n",
    "training_set = get_combined_dataset(\"training_data/Typ1_intrapoliert/test\", 1, 12)\n",
    "X_train = training_set.iloc[:, 2:].values\n",
    "y_train = training_set.iloc[:, 1].values\n",
    "test_set = get_single_dataset(\"training_data/Typ2_intrapoliert/training\")\n",
    "X_test = test_set.iloc[:, 2:].values\n",
    "y_test = test_set.iloc[:, 1].values"
   ]
  },
  {
   "cell_type": "markdown",
   "metadata": {},
   "source": [
    "## Training the Neural Network model"
   ]
  },
  {
   "cell_type": "code",
   "execution_count": 210,
   "metadata": {},
   "outputs": [],
   "source": [
    "import tensorflow as tf\n",
    "from tensorflow import keras\n",
    "from tensorflow.keras import layers\n",
    "model = keras.Sequential(\n",
    "    [\n",
    "        layers.Dense(10, activation=\"relu\", kernel_initializer='he_normal', input_shape=(3,), name=\"layer1\"),\n",
    "        layers.Dense(8, activation=\"relu\", kernel_initializer='he_normal', name=\"layer2\"),\n",
    "        layers.Dense(1, activation='relu', name=\"layer3\"),\n",
    "    ]\n",
    ")\n",
    "model.compile(loss='mean_absolute_error', optimizer=tf.keras.optimizers.Adam(0.003))"
   ]
  },
  {
   "cell_type": "code",
   "execution_count": 211,
   "metadata": {},
   "outputs": [
    {
     "name": "stdout",
     "output_type": "stream",
     "text": [
      "Epoch 1/200\n",
      "476/476 [==============================] - 1s 699us/step - loss: 2.2988\n",
      "Epoch 2/200\n",
      "476/476 [==============================] - 0s 633us/step - loss: 1.2132\n",
      "Epoch 3/200\n",
      "476/476 [==============================] - 0s 666us/step - loss: 0.6321\n",
      "Epoch 4/200\n",
      "476/476 [==============================] - 0s 633us/step - loss: 0.4503\n",
      "Epoch 5/200\n",
      "476/476 [==============================] - 0s 713us/step - loss: 0.3977\n",
      "Epoch 6/200\n",
      "476/476 [==============================] - 0s 666us/step - loss: 0.3744\n",
      "Epoch 7/200\n",
      "476/476 [==============================] - 0s 666us/step - loss: 0.3581\n",
      "Epoch 8/200\n",
      "476/476 [==============================] - 0s 666us/step - loss: 0.3688\n",
      "Epoch 9/200\n",
      "476/476 [==============================] - 0s 666us/step - loss: 0.3487\n",
      "Epoch 10/200\n",
      "476/476 [==============================] - 0s 680us/step - loss: 0.3591\n",
      "Epoch 11/200\n",
      "476/476 [==============================] - 0s 633us/step - loss: 0.3530\n",
      "Epoch 12/200\n",
      "476/476 [==============================] - 0s 666us/step - loss: 0.3564\n",
      "Epoch 13/200\n",
      "476/476 [==============================] - 0s 666us/step - loss: 0.3411\n",
      "Epoch 14/200\n",
      "476/476 [==============================] - 0s 666us/step - loss: 0.3545\n",
      "Epoch 15/200\n",
      "476/476 [==============================] - 0s 666us/step - loss: 0.3450\n",
      "Epoch 16/200\n",
      "476/476 [==============================] - 0s 666us/step - loss: 0.3620\n",
      "Epoch 17/200\n",
      "476/476 [==============================] - 0s 633us/step - loss: 0.3544\n",
      "Epoch 18/200\n",
      "476/476 [==============================] - 0s 666us/step - loss: 0.3437\n",
      "Epoch 19/200\n",
      "476/476 [==============================] - 0s 732us/step - loss: 0.3655\n",
      "Epoch 20/200\n",
      "476/476 [==============================] - 0s 713us/step - loss: 0.3519\n",
      "Epoch 21/200\n",
      "476/476 [==============================] - 0s 666us/step - loss: 0.3436\n",
      "Epoch 22/200\n",
      "476/476 [==============================] - 0s 666us/step - loss: 0.3487\n",
      "Epoch 23/200\n",
      "476/476 [==============================] - 0s 699us/step - loss: 0.3358\n",
      "Epoch 24/200\n",
      "476/476 [==============================] - 0s 633us/step - loss: 0.3590\n",
      "Epoch 25/200\n",
      "476/476 [==============================] - 0s 633us/step - loss: 0.3621\n",
      "Epoch 26/200\n",
      "476/476 [==============================] - 0s 680us/step - loss: 0.3527\n",
      "Epoch 27/200\n",
      "476/476 [==============================] - 0s 633us/step - loss: 0.3472\n",
      "Epoch 28/200\n",
      "476/476 [==============================] - 0s 666us/step - loss: 0.3434\n",
      "Epoch 29/200\n",
      "476/476 [==============================] - 0s 699us/step - loss: 0.3405\n",
      "Epoch 30/200\n",
      "476/476 [==============================] - 0s 778us/step - loss: 0.3388\n",
      "Epoch 31/200\n",
      "476/476 [==============================] - 0s 745us/step - loss: 0.3464\n",
      "Epoch 32/200\n",
      "476/476 [==============================] - 0s 765us/step - loss: 0.3540\n",
      "Epoch 33/200\n",
      "476/476 [==============================] - 0s 699us/step - loss: 0.3409\n",
      "Epoch 34/200\n",
      "476/476 [==============================] - 0s 666us/step - loss: 0.3455\n",
      "Epoch 35/200\n",
      "476/476 [==============================] - 0s 811us/step - loss: 0.3361\n",
      "Epoch 36/200\n",
      "476/476 [==============================] - 0s 699us/step - loss: 0.3473\n",
      "Epoch 37/200\n",
      "476/476 [==============================] - 0s 699us/step - loss: 0.3376\n",
      "Epoch 38/200\n",
      "476/476 [==============================] - 0s 680us/step - loss: 0.3583\n",
      "Epoch 39/200\n",
      "476/476 [==============================] - 0s 666us/step - loss: 0.3400\n",
      "Epoch 40/200\n",
      "476/476 [==============================] - 0s 633us/step - loss: 0.3486\n",
      "Epoch 41/200\n",
      "476/476 [==============================] - 0s 666us/step - loss: 0.3348\n",
      "Epoch 42/200\n",
      "476/476 [==============================] - 0s 666us/step - loss: 0.3408\n",
      "Epoch 43/200\n",
      "476/476 [==============================] - 0s 666us/step - loss: 0.3391\n",
      "Epoch 44/200\n",
      "476/476 [==============================] - 0s 732us/step - loss: 0.3368\n",
      "Epoch 45/200\n",
      "476/476 [==============================] - 0s 778us/step - loss: 0.3384\n",
      "Epoch 46/200\n",
      "476/476 [==============================] - 0s 699us/step - loss: 0.3430\n",
      "Epoch 47/200\n",
      "476/476 [==============================] - 0s 666us/step - loss: 0.3456\n",
      "Epoch 48/200\n",
      "476/476 [==============================] - 0s 680us/step - loss: 0.3398\n",
      "Epoch 49/200\n",
      "476/476 [==============================] - 0s 765us/step - loss: 0.3415\n",
      "Epoch 50/200\n",
      "476/476 [==============================] - 0s 745us/step - loss: 0.3532\n",
      "Epoch 51/200\n",
      "476/476 [==============================] - 0s 765us/step - loss: 0.3292\n",
      "Epoch 52/200\n",
      "476/476 [==============================] - 0s 647us/step - loss: 0.3417\n",
      "Epoch 53/200\n",
      "476/476 [==============================] - 0s 699us/step - loss: 0.3389\n",
      "Epoch 54/200\n",
      "476/476 [==============================] - 0s 778us/step - loss: 0.3479\n",
      "Epoch 55/200\n",
      "476/476 [==============================] - 0s 699us/step - loss: 0.3495\n",
      "Epoch 56/200\n",
      "476/476 [==============================] - 0s 666us/step - loss: 0.3461\n",
      "Epoch 57/200\n",
      "476/476 [==============================] - 0s 666us/step - loss: 0.3335\n",
      "Epoch 58/200\n",
      "476/476 [==============================] - 0s 680us/step - loss: 0.3445\n",
      "Epoch 59/200\n",
      "476/476 [==============================] - 0s 732us/step - loss: 0.3351\n",
      "Epoch 60/200\n",
      "476/476 [==============================] - 0s 680us/step - loss: 0.3405\n",
      "Epoch 61/200\n",
      "476/476 [==============================] - 0s 633us/step - loss: 0.3572\n",
      "Epoch 62/200\n",
      "476/476 [==============================] - 0s 666us/step - loss: 0.3529\n",
      "Epoch 63/200\n",
      "476/476 [==============================] - 0s 732us/step - loss: 0.3336\n",
      "Epoch 64/200\n",
      "476/476 [==============================] - 0s 778us/step - loss: 0.3463\n",
      "Epoch 65/200\n",
      "476/476 [==============================] - 0s 666us/step - loss: 0.3455\n",
      "Epoch 66/200\n",
      "476/476 [==============================] - 0s 633us/step - loss: 0.3406\n",
      "Epoch 67/200\n",
      "476/476 [==============================] - 0s 633us/step - loss: 0.3362\n",
      "Epoch 68/200\n",
      "476/476 [==============================] - 0s 680us/step - loss: 0.3247\n",
      "Epoch 69/200\n",
      "476/476 [==============================] - 0s 666us/step - loss: 0.3375\n",
      "Epoch 70/200\n",
      "476/476 [==============================] - 0s 666us/step - loss: 0.3449\n",
      "Epoch 71/200\n",
      "476/476 [==============================] - 0s 778us/step - loss: 0.3324\n",
      "Epoch 72/200\n",
      "476/476 [==============================] - 0s 699us/step - loss: 0.3314\n",
      "Epoch 73/200\n",
      "476/476 [==============================] - 0s 633us/step - loss: 0.3312\n",
      "Epoch 74/200\n",
      "476/476 [==============================] - 0s 666us/step - loss: 0.3215\n",
      "Epoch 75/200\n",
      "476/476 [==============================] - 0s 666us/step - loss: 0.3316\n",
      "Epoch 76/200\n",
      "476/476 [==============================] - 0s 633us/step - loss: 0.3382\n",
      "Epoch 77/200\n",
      "476/476 [==============================] - 0s 666us/step - loss: 0.3395\n",
      "Epoch 78/200\n",
      "476/476 [==============================] - 0s 666us/step - loss: 0.3336\n",
      "Epoch 79/200\n",
      "476/476 [==============================] - 0s 778us/step - loss: 0.3428\n",
      "Epoch 80/200\n",
      "476/476 [==============================] - 0s 798us/step - loss: 0.3310\n",
      "Epoch 81/200\n",
      "476/476 [==============================] - 0s 746us/step - loss: 0.3332\n",
      "Epoch 82/200\n",
      "476/476 [==============================] - 0s 633us/step - loss: 0.3416\n",
      "Epoch 83/200\n",
      "476/476 [==============================] - 0s 666us/step - loss: 0.3423\n",
      "Epoch 84/200\n",
      "476/476 [==============================] - 0s 666us/step - loss: 0.3408\n",
      "Epoch 85/200\n",
      "476/476 [==============================] - 0s 680us/step - loss: 0.3355\n",
      "Epoch 86/200\n",
      "476/476 [==============================] - 0s 732us/step - loss: 0.3349\n",
      "Epoch 87/200\n",
      "476/476 [==============================] - 0s 666us/step - loss: 0.3287\n",
      "Epoch 88/200\n",
      "476/476 [==============================] - 0s 633us/step - loss: 0.3346\n",
      "Epoch 89/200\n",
      "476/476 [==============================] - 0s 666us/step - loss: 0.3392\n",
      "Epoch 90/200\n",
      "476/476 [==============================] - 0s 647us/step - loss: 0.3304\n",
      "Epoch 91/200\n",
      "476/476 [==============================] - 0s 666us/step - loss: 0.3349\n",
      "Epoch 92/200\n",
      "476/476 [==============================] - 0s 811us/step - loss: 0.3382\n",
      "Epoch 93/200\n",
      "476/476 [==============================] - 0s 811us/step - loss: 0.3456\n",
      "Epoch 94/200\n",
      "476/476 [==============================] - 0s 666us/step - loss: 0.3299\n",
      "Epoch 95/200\n",
      "476/476 [==============================] - 0s 666us/step - loss: 0.3241\n",
      "Epoch 96/200\n",
      "476/476 [==============================] - 0s 666us/step - loss: 0.3230\n",
      "Epoch 97/200\n",
      "476/476 [==============================] - 0s 633us/step - loss: 0.3286\n",
      "Epoch 98/200\n",
      "476/476 [==============================] - 0s 666us/step - loss: 0.3315\n",
      "Epoch 99/200\n",
      "476/476 [==============================] - 0s 778us/step - loss: 0.3382\n",
      "Epoch 100/200\n",
      "476/476 [==============================] - 0s 699us/step - loss: 0.3378\n",
      "Epoch 101/200\n",
      "476/476 [==============================] - 0s 680us/step - loss: 0.3320\n",
      "Epoch 102/200\n",
      "476/476 [==============================] - 0s 765us/step - loss: 0.3410\n",
      "Epoch 103/200\n",
      "476/476 [==============================] - 0s 699us/step - loss: 0.3303\n",
      "Epoch 104/200\n",
      "476/476 [==============================] - 0s 732us/step - loss: 0.3314\n",
      "Epoch 105/200\n",
      "476/476 [==============================] - 0s 778us/step - loss: 0.3405\n",
      "Epoch 106/200\n",
      "476/476 [==============================] - 0s 732us/step - loss: 0.3238\n",
      "Epoch 107/200\n",
      "476/476 [==============================] - 0s 745us/step - loss: 0.3332\n",
      "Epoch 108/200\n",
      "476/476 [==============================] - 0s 732us/step - loss: 0.3286\n",
      "Epoch 109/200\n",
      "476/476 [==============================] - 0s 745us/step - loss: 0.3169\n",
      "Epoch 110/200\n",
      "476/476 [==============================] - 0s 778us/step - loss: 0.3263\n",
      "Epoch 111/200\n",
      "476/476 [==============================] - 0s 765us/step - loss: 0.3246\n",
      "Epoch 112/200\n",
      "476/476 [==============================] - 0s 713us/step - loss: 0.3186\n",
      "Epoch 113/200\n",
      "476/476 [==============================] - 0s 765us/step - loss: 0.3284\n",
      "Epoch 114/200\n",
      "476/476 [==============================] - 0s 745us/step - loss: 0.3262\n",
      "Epoch 115/200\n",
      "476/476 [==============================] - 0s 666us/step - loss: 0.3315\n",
      "Epoch 116/200\n",
      "476/476 [==============================] - 0s 633us/step - loss: 0.3184\n",
      "Epoch 117/200\n",
      "476/476 [==============================] - 0s 666us/step - loss: 0.3265\n",
      "Epoch 118/200\n",
      "476/476 [==============================] - 0s 633us/step - loss: 0.3328\n",
      "Epoch 119/200\n",
      "476/476 [==============================] - 0s 699us/step - loss: 0.3209\n",
      "Epoch 120/200\n",
      "476/476 [==============================] - 0s 745us/step - loss: 0.2950\n",
      "Epoch 121/200\n",
      "476/476 [==============================] - 0s 633us/step - loss: 0.2816\n",
      "Epoch 122/200\n",
      "476/476 [==============================] - 0s 699us/step - loss: 0.2863\n",
      "Epoch 123/200\n",
      "476/476 [==============================] - 0s 666us/step - loss: 0.2875\n",
      "Epoch 124/200\n",
      "476/476 [==============================] - 0s 666us/step - loss: 0.2839\n",
      "Epoch 125/200\n",
      "476/476 [==============================] - 0s 680us/step - loss: 0.2815\n",
      "Epoch 126/200\n",
      "476/476 [==============================] - 0s 699us/step - loss: 0.2814\n",
      "Epoch 127/200\n",
      "476/476 [==============================] - 0s 666us/step - loss: 0.2841\n",
      "Epoch 128/200\n",
      "476/476 [==============================] - 0s 666us/step - loss: 0.2899\n",
      "Epoch 129/200\n",
      "476/476 [==============================] - 0s 666us/step - loss: 0.2774\n",
      "Epoch 130/200\n",
      "476/476 [==============================] - 0s 666us/step - loss: 0.2751\n",
      "Epoch 131/200\n",
      "476/476 [==============================] - 0s 633us/step - loss: 0.2756\n",
      "Epoch 132/200\n",
      "476/476 [==============================] - 0s 765us/step - loss: 0.2764\n",
      "Epoch 133/200\n",
      "476/476 [==============================] - 0s 713us/step - loss: 0.2789\n",
      "Epoch 134/200\n",
      "476/476 [==============================] - 0s 732us/step - loss: 0.2767\n",
      "Epoch 135/200\n",
      "476/476 [==============================] - 0s 666us/step - loss: 0.2686\n",
      "Epoch 136/200\n",
      "476/476 [==============================] - 0s 633us/step - loss: 0.2774\n",
      "Epoch 137/200\n",
      "476/476 [==============================] - 0s 647us/step - loss: 0.2895\n",
      "Epoch 138/200\n",
      "476/476 [==============================] - 0s 666us/step - loss: 0.2755\n",
      "Epoch 139/200\n",
      "476/476 [==============================] - 0s 666us/step - loss: 0.2759\n",
      "Epoch 140/200\n",
      "476/476 [==============================] - 0s 666us/step - loss: 0.2746\n",
      "Epoch 141/200\n",
      "476/476 [==============================] - 0s 666us/step - loss: 0.2743\n",
      "Epoch 142/200\n",
      "476/476 [==============================] - 0s 666us/step - loss: 0.2805\n",
      "Epoch 143/200\n",
      "476/476 [==============================] - 0s 713us/step - loss: 0.2783\n",
      "Epoch 144/200\n",
      "476/476 [==============================] - 0s 666us/step - loss: 0.2772\n",
      "Epoch 145/200\n",
      "476/476 [==============================] - 0s 666us/step - loss: 0.2704\n",
      "Epoch 146/200\n",
      "476/476 [==============================] - 0s 666us/step - loss: 0.2708\n",
      "Epoch 147/200\n",
      "476/476 [==============================] - 0s 666us/step - loss: 0.2698\n",
      "Epoch 148/200\n",
      "476/476 [==============================] - 0s 666us/step - loss: 0.2628\n",
      "Epoch 149/200\n",
      "476/476 [==============================] - 0s 647us/step - loss: 0.2666\n",
      "Epoch 150/200\n",
      "476/476 [==============================] - 0s 666us/step - loss: 0.2692\n",
      "Epoch 151/200\n",
      "476/476 [==============================] - 0s 699us/step - loss: 0.2670\n",
      "Epoch 152/200\n",
      "476/476 [==============================] - 0s 633us/step - loss: 0.2729\n",
      "Epoch 153/200\n",
      "476/476 [==============================] - 0s 633us/step - loss: 0.2686\n",
      "Epoch 154/200\n",
      "476/476 [==============================] - 0s 633us/step - loss: 0.2690\n",
      "Epoch 155/200\n",
      "476/476 [==============================] - 0s 647us/step - loss: 0.2709\n",
      "Epoch 156/200\n",
      "476/476 [==============================] - 0s 666us/step - loss: 0.2748\n",
      "Epoch 157/200\n",
      "476/476 [==============================] - 0s 666us/step - loss: 0.2692\n",
      "Epoch 158/200\n",
      "476/476 [==============================] - 0s 666us/step - loss: 0.2679\n",
      "Epoch 159/200\n",
      "476/476 [==============================] - 0s 666us/step - loss: 0.2684\n",
      "Epoch 160/200\n",
      "476/476 [==============================] - 0s 699us/step - loss: 0.2812\n",
      "Epoch 161/200\n",
      "476/476 [==============================] - 0s 647us/step - loss: 0.2777\n",
      "Epoch 162/200\n",
      "476/476 [==============================] - 0s 666us/step - loss: 0.2713\n",
      "Epoch 163/200\n",
      "476/476 [==============================] - 0s 633us/step - loss: 0.2684\n",
      "Epoch 164/200\n",
      "476/476 [==============================] - 0s 699us/step - loss: 0.2633\n",
      "Epoch 165/200\n",
      "476/476 [==============================] - 0s 666us/step - loss: 0.2767\n",
      "Epoch 166/200\n",
      "476/476 [==============================] - 0s 778us/step - loss: 0.2717\n",
      "Epoch 167/200\n",
      "476/476 [==============================] - 0s 746us/step - loss: 0.2679\n",
      "Epoch 168/200\n",
      "476/476 [==============================] - 0s 666us/step - loss: 0.2587\n",
      "Epoch 169/200\n",
      "476/476 [==============================] - 0s 732us/step - loss: 0.2639\n",
      "Epoch 170/200\n",
      "476/476 [==============================] - 0s 745us/step - loss: 0.2657\n",
      "Epoch 171/200\n",
      "476/476 [==============================] - 0s 745us/step - loss: 0.2670\n",
      "Epoch 172/200\n",
      "476/476 [==============================] - 0s 765us/step - loss: 0.2642\n",
      "Epoch 173/200\n",
      "476/476 [==============================] - 0s 666us/step - loss: 0.2613\n",
      "Epoch 174/200\n",
      "476/476 [==============================] - 0s 778us/step - loss: 0.2714\n",
      "Epoch 175/200\n",
      "476/476 [==============================] - 0s 699us/step - loss: 0.2812\n",
      "Epoch 176/200\n",
      "476/476 [==============================] - 0s 666us/step - loss: 0.2667\n",
      "Epoch 177/200\n",
      "476/476 [==============================] - 0s 680us/step - loss: 0.2686\n",
      "Epoch 178/200\n",
      "476/476 [==============================] - 0s 666us/step - loss: 0.2640\n",
      "Epoch 179/200\n",
      "476/476 [==============================] - 0s 666us/step - loss: 0.2720\n",
      "Epoch 180/200\n",
      "476/476 [==============================] - 0s 699us/step - loss: 0.2656\n",
      "Epoch 181/200\n",
      "476/476 [==============================] - 0s 713us/step - loss: 0.2662\n",
      "Epoch 182/200\n",
      "476/476 [==============================] - 0s 765us/step - loss: 0.2598\n",
      "Epoch 183/200\n",
      "476/476 [==============================] - 0s 727us/step - loss: 0.2678\n",
      "Epoch 184/200\n",
      "476/476 [==============================] - 0s 713us/step - loss: 0.2689\n",
      "Epoch 185/200\n",
      "476/476 [==============================] - 0s 844us/step - loss: 0.2636\n",
      "Epoch 186/200\n",
      "476/476 [==============================] - 0s 798us/step - loss: 0.2764\n",
      "Epoch 187/200\n",
      "476/476 [==============================] - 0s 633us/step - loss: 0.2627\n",
      "Epoch 188/200\n",
      "476/476 [==============================] - 0s 666us/step - loss: 0.2673\n",
      "Epoch 189/200\n",
      "476/476 [==============================] - 0s 666us/step - loss: 0.2658\n",
      "Epoch 190/200\n",
      "476/476 [==============================] - 0s 699us/step - loss: 0.2634\n",
      "Epoch 191/200\n",
      "476/476 [==============================] - 0s 633us/step - loss: 0.2639\n",
      "Epoch 192/200\n",
      "476/476 [==============================] - 1s 1ms/step - loss: 0.2649\n",
      "Epoch 193/200\n",
      "476/476 [==============================] - 0s 1ms/step - loss: 0.2648\n",
      "Epoch 194/200\n",
      "476/476 [==============================] - 0s 811us/step - loss: 0.2646\n",
      "Epoch 195/200\n",
      "476/476 [==============================] - 0s 968us/step - loss: 0.2697\n",
      "Epoch 196/200\n",
      "476/476 [==============================] - 1s 1ms/step - loss: 0.2698\n",
      "Epoch 197/200\n",
      "476/476 [==============================] - 0s 821us/step - loss: 0.2651\n",
      "Epoch 198/200\n",
      "476/476 [==============================] - 0s 861us/step - loss: 0.2688\n",
      "Epoch 199/200\n",
      "476/476 [==============================] - 0s 1ms/step - loss: 0.2595\n",
      "Epoch 200/200\n",
      "476/476 [==============================] - 0s 955us/step - loss: 0.2608\n"
     ]
    },
    {
     "data": {
      "text/plain": [
       "<tensorflow.python.keras.callbacks.History at 0x1e3b9f6c790>"
      ]
     },
     "execution_count": 211,
     "metadata": {},
     "output_type": "execute_result"
    }
   ],
   "source": [
    "model.fit(X_train, y_train, batch_size=64, epochs=200)"
   ]
  },
  {
   "cell_type": "markdown",
   "metadata": {},
   "source": [
    "## Predicting the Test set results on independent test set"
   ]
  },
  {
   "cell_type": "code",
   "execution_count": 212,
   "metadata": {},
   "outputs": [],
   "source": [
    "y_pred = model.predict(X_test)"
   ]
  },
  {
   "cell_type": "code",
   "execution_count": 213,
   "metadata": {},
   "outputs": [
    {
     "name": "stdout",
     "output_type": "stream",
     "text": [
      "0.3483260895152971\n"
     ]
    }
   ],
   "source": [
    "from sklearn.metrics import mean_squared_error\n",
    "mse = mean_squared_error(y_test, y_pred)\n",
    "print(mse)"
   ]
  },
  {
   "cell_type": "code",
   "execution_count": 214,
   "metadata": {},
   "outputs": [
    {
     "data": {
      "image/png": "[encoded data removed]",
      "text/plain": [
       "<Figure size 432x288 with 1 Axes>"
      ]
     },
     "metadata": {
      "needs_background": "light"
     },
     "output_type": "display_data"
    }
   ],
   "source": [
    "plt.scatter(y_pred, y_test)\n",
    "plt.xlabel(\"Prediction U (V)\")\n",
    "plt.ylabel(\"Experiment U (V)\")\n",
    "plt.plot([13, 20], [13, 20])\n",
    "plt.show()"
   ]
  },
  {
   "cell_type": "code",
   "execution_count": 215,
   "metadata": {},
   "outputs": [
    {
     "data": {
      "text/plain": [
       "0.9154450897129126"
      ]
     },
     "execution_count": 215,
     "metadata": {},
     "output_type": "execute_result"
    }
   ],
   "source": [
    "from sklearn.metrics import r2_score\n",
    "r2_score(y_test, y_pred)"
   ]
  },
  {
   "cell_type": "code",
   "execution_count": 216,
   "metadata": {},
   "outputs": [
    {
     "name": "stdout",
     "output_type": "stream",
     "text": [
      "0.5901915701831881\n"
     ]
    }
   ],
   "source": [
    "from sklearn.metrics import mean_squared_error\n",
    "import math\n",
    "mse = mean_squared_error(y_test, y_pred)\n",
    "rmse = math.sqrt(mse)\n",
    "print(rmse)"
   ]
  },
  {
   "cell_type": "code",
   "execution_count": 217,
   "metadata": {},
   "outputs": [
    {
     "name": "stdout",
     "output_type": "stream",
     "text": [
      "41.325016189634646\n"
     ]
    }
   ],
   "source": [
    "from sklearn.metrics import mean_absolute_error\n",
    "mape = mean_absolute_error(y_test, y_pred)*100\n",
    "print(mape)"
   ]
  },
  {
   "cell_type": "code",
   "execution_count": 218,
   "metadata": {},
   "outputs": [],
   "source": [
    "np.savetxt(\"nn2_u_test_train1test2_originalH2_1Dataset.txt\", y_test)"
   ]
  },
  {
   "cell_type": "code",
   "execution_count": 219,
   "metadata": {},
   "outputs": [],
   "source": [
    "np.savetxt(\"nn2_u_pred_train1test2_originalH2.txt_1Dataset\", y_pred)"
   ]
  },
  {
   "cell_type": "code",
   "execution_count": 220,
   "metadata": {},
   "outputs": [],
   "source": [
    "z = np.arange(1, 4366)"
   ]
  },
  {
   "cell_type": "code",
   "execution_count": 221,
   "metadata": {},
   "outputs": [
    {
     "data": {
      "image/png": "[encoded data removed]",
      "text/plain": [
       "<Figure size 432x288 with 1 Axes>"
      ]
     },
     "metadata": {
      "needs_background": "light"
     },
     "output_type": "display_data"
    }
   ],
   "source": [
    "plt.scatter(z, y_pred, label='Prediction')\n",
    "plt.scatter(z, y_test, label='Experiment')\n",
    "plt.xlabel(\"Time (a.u.)\")\n",
    "plt.ylabel(\"U (V)\")\n",
    "plt.legend(loc='best')\n",
    "plt.show()"
   ]
  },
  {
   "cell_type": "code",
   "execution_count": 225,
   "metadata": {},
   "outputs": [],
   "source": [
    "np.savetxt(\"nn2_z_train1test2.txt\", z)"
   ]
  },
  {
   "cell_type": "code",
   "execution_count": 226,
   "metadata": {},
   "outputs": [],
   "source": [
    "np.savetxt(\"nn2_y_test_train1test2.txt\", y_test)"
   ]
  },
  {
   "cell_type": "code",
   "execution_count": 227,
   "metadata": {},
   "outputs": [],
   "source": [
    "np.savetxt(\"nn2_y_pred_train1test2.txt\", y_pred)"
   ]
  },
  {
   "cell_type": "code",
   "execution_count": null,
   "metadata": {},
   "outputs": [],
   "source": []
  }
 ],
 "metadata": {
  "kernelspec": {
   "display_name": "Python 3",
   "language": "python",
   "name": "python3"
  },
  "language_info": {
   "codemirror_mode": {
    "name": "ipython",
    "version": 3
   },
   "file_extension": ".py",
   "mimetype": "text/x-python",
   "name": "python",
   "nbconvert_exporter": "python",
   "pygments_lexer": "ipython3",
   "version": "3.8.5"
  }
 },
 "nbformat": 4,
 "nbformat_minor": 4
}
