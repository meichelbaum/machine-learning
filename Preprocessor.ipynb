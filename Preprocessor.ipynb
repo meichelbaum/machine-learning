{
 "cells": [
  {
   "cell_type": "code",
   "execution_count": 1,
   "metadata": {},
   "outputs": [],
   "source": [
    "import pandas as pd\n"
   ]
  },
  {
   "cell_type": "code",
   "execution_count": 2,
   "metadata": {},
   "outputs": [],
   "source": [
    "txt_data = pd.read_csv(\"training_data/250820/test1.txt\", delimiter=\"\\t\")"
   ]
  },
  {
   "cell_type": "code",
   "execution_count": 3,
   "metadata": {},
   "outputs": [
    {
     "name": "stdout",
     "output_type": "stream",
     "text": [
      "                        Zeit: Istwert Durchfluss Totalisator  Alarm Nr. 1  \\\n",
      "0                         NaN                NaN         NaN          NaN   \n",
      "1     25.08.2020 13:01:56,810                  0    4,560843          0.0   \n",
      "2     25.08.2020 13:01:56,931                  0    4,560843          0.0   \n",
      "3      25.08.2020 13:01:57,93                  0    4,560843          0.0   \n",
      "4     25.08.2020 13:01:57,226                  0    4,560843          0.0   \n",
      "...                       ...                ...         ...          ...   \n",
      "5376  25.08.2020 13:14:19,488                  0    8,624094          0.0   \n",
      "5377  25.08.2020 13:14:19,633                  0    8,624094          0.0   \n",
      "5378  25.08.2020 13:14:19,776                  0    8,624094          0.0   \n",
      "5379  25.08.2020 13:14:19,923                  0    8,624094          0.0   \n",
      "5380   25.08.2020 13:14:20,62                  0    8,624094          0.0   \n",
      "\n",
      "      Unnamed: 4  \n",
      "0            NaN  \n",
      "1            NaN  \n",
      "2            NaN  \n",
      "3            NaN  \n",
      "4            NaN  \n",
      "...          ...  \n",
      "5376         NaN  \n",
      "5377         NaN  \n",
      "5378         NaN  \n",
      "5379         NaN  \n",
      "5380         NaN  \n",
      "\n",
      "[5381 rows x 5 columns]\n"
     ]
    }
   ],
   "source": [
    "print(txt_data)"
   ]
  },
  {
   "cell_type": "code",
   "execution_count": 4,
   "metadata": {},
   "outputs": [
    {
     "data": {
      "text/plain": [
       "Zeit:                  object\n",
       "Istwert Durchfluss     object\n",
       "Totalisator            object\n",
       "Alarm Nr. 1           float64\n",
       "Unnamed: 4            float64\n",
       "dtype: object"
      ]
     },
     "execution_count": 4,
     "metadata": {},
     "output_type": "execute_result"
    }
   ],
   "source": [
    "txt_data.dtypes"
   ]
  },
  {
   "cell_type": "code",
   "execution_count": 5,
   "metadata": {},
   "outputs": [],
   "source": [
    "txt_data.drop(txt_data[txt_data[\"Zeit:\"].isnull()].index, inplace=True)"
   ]
  },
  {
   "cell_type": "code",
   "execution_count": 6,
   "metadata": {},
   "outputs": [],
   "source": [
    "txt_data.dropna(axis=1, inplace=True)"
   ]
  },
  {
   "cell_type": "code",
   "execution_count": 7,
   "metadata": {},
   "outputs": [],
   "source": [
    "txt_data[\"Time\"] = pd.to_datetime(txt_data[\"Zeit:\"])"
   ]
  },
  {
   "cell_type": "code",
   "execution_count": 8,
   "metadata": {},
   "outputs": [],
   "source": [
    "txt_data.drop([\"Zeit:\", \"Alarm Nr. 1\"], inplace=True, axis=1)"
   ]
  },
  {
   "cell_type": "code",
   "execution_count": 9,
   "metadata": {},
   "outputs": [],
   "source": [
    "txt_data.set_index(\"Time\", inplace=True)"
   ]
  },
  {
   "cell_type": "code",
   "execution_count": 10,
   "metadata": {},
   "outputs": [
    {
     "data": {
      "text/plain": [
       "Istwert Durchfluss    object\n",
       "Totalisator           object\n",
       "dtype: object"
      ]
     },
     "execution_count": 10,
     "metadata": {},
     "output_type": "execute_result"
    }
   ],
   "source": [
    "txt_data.dtypes"
   ]
  },
  {
   "cell_type": "code",
   "execution_count": 11,
   "metadata": {},
   "outputs": [
    {
     "data": {
      "text/html": [
       "<div>\n",
       "<style scoped>\n",
       "    .dataframe tbody tr th:only-of-type {\n",
       "        vertical-align: middle;\n",
       "    }\n",
       "\n",
       "    .dataframe tbody tr th {\n",
       "        vertical-align: top;\n",
       "    }\n",
       "\n",
       "    .dataframe thead th {\n",
       "        text-align: right;\n",
       "    }\n",
       "</style>\n",
       "<table border=\"1\" class=\"dataframe\">\n",
       "  <thead>\n",
       "    <tr style=\"text-align: right;\">\n",
       "      <th></th>\n",
       "      <th>Istwert Durchfluss</th>\n",
       "      <th>Totalisator</th>\n",
       "    </tr>\n",
       "    <tr>\n",
       "      <th>Time</th>\n",
       "      <th></th>\n",
       "      <th></th>\n",
       "    </tr>\n",
       "  </thead>\n",
       "  <tbody>\n",
       "    <tr>\n",
       "      <th>2020-08-25 13:01:56.810</th>\n",
       "      <td>0</td>\n",
       "      <td>4,560843</td>\n",
       "    </tr>\n",
       "    <tr>\n",
       "      <th>2020-08-25 13:01:56.931</th>\n",
       "      <td>0</td>\n",
       "      <td>4,560843</td>\n",
       "    </tr>\n",
       "    <tr>\n",
       "      <th>2020-08-25 13:01:57.930</th>\n",
       "      <td>0</td>\n",
       "      <td>4,560843</td>\n",
       "    </tr>\n",
       "    <tr>\n",
       "      <th>2020-08-25 13:01:57.226</th>\n",
       "      <td>0</td>\n",
       "      <td>4,560843</td>\n",
       "    </tr>\n",
       "    <tr>\n",
       "      <th>2020-08-25 13:01:57.347</th>\n",
       "      <td>0</td>\n",
       "      <td>4,560843</td>\n",
       "    </tr>\n",
       "  </tbody>\n",
       "</table>\n",
       "</div>"
      ],
      "text/plain": [
       "                        Istwert Durchfluss Totalisator\n",
       "Time                                                  \n",
       "2020-08-25 13:01:56.810                  0    4,560843\n",
       "2020-08-25 13:01:56.931                  0    4,560843\n",
       "2020-08-25 13:01:57.930                  0    4,560843\n",
       "2020-08-25 13:01:57.226                  0    4,560843\n",
       "2020-08-25 13:01:57.347                  0    4,560843"
      ]
     },
     "execution_count": 11,
     "metadata": {},
     "output_type": "execute_result"
    }
   ],
   "source": [
    "txt_data.head()"
   ]
  },
  {
   "cell_type": "code",
   "execution_count": 12,
   "metadata": {
    "scrolled": true
   },
   "outputs": [],
   "source": [
    "xls_data = pd.read_csv(\"training_data/250820/test1.xls\", delimiter=\"\\t\")"
   ]
  },
  {
   "cell_type": "code",
   "execution_count": 13,
   "metadata": {},
   "outputs": [
    {
     "data": {
      "text/plain": [
       "Index(['YY/MM/DD', 'Time', 'Normal/Error', 'Stack Voltage(V)',\n",
       "       'Stack Current(A)', 'Stack Temperatur(C)', 'Remark'],\n",
       "      dtype='object')"
      ]
     },
     "execution_count": 13,
     "metadata": {},
     "output_type": "execute_result"
    }
   ],
   "source": [
    "xls_data.columns"
   ]
  },
  {
   "cell_type": "code",
   "execution_count": 14,
   "metadata": {},
   "outputs": [],
   "source": [
    "xls_data.drop([\"Remark\", \"Normal/Error\"], inplace=True, axis=1)"
   ]
  },
  {
   "cell_type": "code",
   "execution_count": 15,
   "metadata": {},
   "outputs": [
    {
     "name": "stdout",
     "output_type": "stream",
     "text": [
      "       YY/MM/DD        Time Stack Voltage(V) Stack Current(A)  \\\n",
      "0     20-08-25    13:01:58        19,769231         0,000000    \n",
      "1     20-08-25    13:01:58        19,769231         0,000000    \n",
      "2     20-08-25    13:01:58        19,769231         0,000000    \n",
      "3     20-08-25    13:01:59        19,769231         0,000000    \n",
      "4     20-08-25    13:01:59        19,769231         0,000000    \n",
      "...         ...         ...              ...              ...   \n",
      "2760  20-08-25    13:14:16        16,615385         0,400000    \n",
      "2761  20-08-25    13:14:17        16,615385         0,400000    \n",
      "2762  20-08-25    13:14:17        16,615385         0,400000    \n",
      "2763  20-08-25    13:14:17        16,615385         0,400000    \n",
      "2764  20-08-25    13:14:18        16,615385         0,400000    \n",
      "\n",
      "      Stack Temperatur(C)  \n",
      "0                      27  \n",
      "1                      27  \n",
      "2                      27  \n",
      "3                      27  \n",
      "4                      27  \n",
      "...                   ...  \n",
      "2760                   30  \n",
      "2761                   30  \n",
      "2762                   30  \n",
      "2763                   30  \n",
      "2764                   30  \n",
      "\n",
      "[2765 rows x 5 columns]\n"
     ]
    }
   ],
   "source": [
    "print(xls_data)"
   ]
  },
  {
   "cell_type": "code",
   "execution_count": 16,
   "metadata": {},
   "outputs": [
    {
     "data": {
      "text/plain": [
       "YY/MM/DD               object\n",
       "Time                   object\n",
       "Stack Voltage(V)       object\n",
       "Stack Current(A)       object\n",
       "Stack Temperatur(C)     int64\n",
       "dtype: object"
      ]
     },
     "execution_count": 16,
     "metadata": {},
     "output_type": "execute_result"
    }
   ],
   "source": [
    "xls_data.dtypes"
   ]
  },
  {
   "cell_type": "code",
   "execution_count": 17,
   "metadata": {},
   "outputs": [],
   "source": [
    "xls_data[\"Time\"]= pd.to_datetime(xls_data[\"YY/MM/DD\"] + xls_data[\"Time\"])"
   ]
  },
  {
   "cell_type": "code",
   "execution_count": 18,
   "metadata": {},
   "outputs": [],
   "source": [
    "xls_data.drop([\"YY/MM/DD\"], inplace=True, axis=1)"
   ]
  },
  {
   "cell_type": "code",
   "execution_count": 19,
   "metadata": {},
   "outputs": [],
   "source": [
    "xls_data.set_index(\"Time\", inplace=True)"
   ]
  },
  {
   "cell_type": "code",
   "execution_count": 20,
   "metadata": {},
   "outputs": [
    {
     "data": {
      "text/html": [
       "<div>\n",
       "<style scoped>\n",
       "    .dataframe tbody tr th:only-of-type {\n",
       "        vertical-align: middle;\n",
       "    }\n",
       "\n",
       "    .dataframe tbody tr th {\n",
       "        vertical-align: top;\n",
       "    }\n",
       "\n",
       "    .dataframe thead th {\n",
       "        text-align: right;\n",
       "    }\n",
       "</style>\n",
       "<table border=\"1\" class=\"dataframe\">\n",
       "  <thead>\n",
       "    <tr style=\"text-align: right;\">\n",
       "      <th></th>\n",
       "      <th>Stack Voltage(V)</th>\n",
       "      <th>Stack Current(A)</th>\n",
       "      <th>Stack Temperatur(C)</th>\n",
       "    </tr>\n",
       "    <tr>\n",
       "      <th>Time</th>\n",
       "      <th></th>\n",
       "      <th></th>\n",
       "      <th></th>\n",
       "    </tr>\n",
       "  </thead>\n",
       "  <tbody>\n",
       "    <tr>\n",
       "      <th>2025-08-20 13:01:58</th>\n",
       "      <td>19,769231</td>\n",
       "      <td>0,000000</td>\n",
       "      <td>27</td>\n",
       "    </tr>\n",
       "    <tr>\n",
       "      <th>2025-08-20 13:01:58</th>\n",
       "      <td>19,769231</td>\n",
       "      <td>0,000000</td>\n",
       "      <td>27</td>\n",
       "    </tr>\n",
       "    <tr>\n",
       "      <th>2025-08-20 13:01:58</th>\n",
       "      <td>19,769231</td>\n",
       "      <td>0,000000</td>\n",
       "      <td>27</td>\n",
       "    </tr>\n",
       "    <tr>\n",
       "      <th>2025-08-20 13:01:59</th>\n",
       "      <td>19,769231</td>\n",
       "      <td>0,000000</td>\n",
       "      <td>27</td>\n",
       "    </tr>\n",
       "    <tr>\n",
       "      <th>2025-08-20 13:01:59</th>\n",
       "      <td>19,769231</td>\n",
       "      <td>0,000000</td>\n",
       "      <td>27</td>\n",
       "    </tr>\n",
       "    <tr>\n",
       "      <th>...</th>\n",
       "      <td>...</td>\n",
       "      <td>...</td>\n",
       "      <td>...</td>\n",
       "    </tr>\n",
       "    <tr>\n",
       "      <th>2025-08-20 13:14:16</th>\n",
       "      <td>16,615385</td>\n",
       "      <td>0,400000</td>\n",
       "      <td>30</td>\n",
       "    </tr>\n",
       "    <tr>\n",
       "      <th>2025-08-20 13:14:17</th>\n",
       "      <td>16,615385</td>\n",
       "      <td>0,400000</td>\n",
       "      <td>30</td>\n",
       "    </tr>\n",
       "    <tr>\n",
       "      <th>2025-08-20 13:14:17</th>\n",
       "      <td>16,615385</td>\n",
       "      <td>0,400000</td>\n",
       "      <td>30</td>\n",
       "    </tr>\n",
       "    <tr>\n",
       "      <th>2025-08-20 13:14:17</th>\n",
       "      <td>16,615385</td>\n",
       "      <td>0,400000</td>\n",
       "      <td>30</td>\n",
       "    </tr>\n",
       "    <tr>\n",
       "      <th>2025-08-20 13:14:18</th>\n",
       "      <td>16,615385</td>\n",
       "      <td>0,400000</td>\n",
       "      <td>30</td>\n",
       "    </tr>\n",
       "  </tbody>\n",
       "</table>\n",
       "<p>2765 rows × 3 columns</p>\n",
       "</div>"
      ],
      "text/plain": [
       "                    Stack Voltage(V) Stack Current(A)  Stack Temperatur(C)\n",
       "Time                                                                      \n",
       "2025-08-20 13:01:58       19,769231         0,000000                    27\n",
       "2025-08-20 13:01:58       19,769231         0,000000                    27\n",
       "2025-08-20 13:01:58       19,769231         0,000000                    27\n",
       "2025-08-20 13:01:59       19,769231         0,000000                    27\n",
       "2025-08-20 13:01:59       19,769231         0,000000                    27\n",
       "...                              ...              ...                  ...\n",
       "2025-08-20 13:14:16       16,615385         0,400000                    30\n",
       "2025-08-20 13:14:17       16,615385         0,400000                    30\n",
       "2025-08-20 13:14:17       16,615385         0,400000                    30\n",
       "2025-08-20 13:14:17       16,615385         0,400000                    30\n",
       "2025-08-20 13:14:18       16,615385         0,400000                    30\n",
       "\n",
       "[2765 rows x 3 columns]"
      ]
     },
     "execution_count": 20,
     "metadata": {},
     "output_type": "execute_result"
    }
   ],
   "source": [
    "xls_data\n"
   ]
  },
  {
   "cell_type": "code",
   "execution_count": 21,
   "metadata": {},
   "outputs": [
    {
     "data": {
      "text/plain": [
       "Stack Voltage(V)       object\n",
       "Stack Current(A)       object\n",
       "Stack Temperatur(C)     int64\n",
       "dtype: object"
      ]
     },
     "execution_count": 21,
     "metadata": {},
     "output_type": "execute_result"
    }
   ],
   "source": [
    "xls_data.dtypes\n"
   ]
  },
  {
   "cell_type": "code",
   "execution_count": 22,
   "metadata": {},
   "outputs": [],
   "source": [
    "txt_data.sort_index(inplace=True)"
   ]
  },
  {
   "cell_type": "code",
   "execution_count": 23,
   "metadata": {},
   "outputs": [],
   "source": [
    "df = pd.merge_asof(xls_data, txt_data, on=\"Time\")"
   ]
  },
  {
   "cell_type": "code",
   "execution_count": 24,
   "metadata": {},
   "outputs": [
    {
     "data": {
      "text/html": [
       "<div>\n",
       "<style scoped>\n",
       "    .dataframe tbody tr th:only-of-type {\n",
       "        vertical-align: middle;\n",
       "    }\n",
       "\n",
       "    .dataframe tbody tr th {\n",
       "        vertical-align: top;\n",
       "    }\n",
       "\n",
       "    .dataframe thead th {\n",
       "        text-align: right;\n",
       "    }\n",
       "</style>\n",
       "<table border=\"1\" class=\"dataframe\">\n",
       "  <thead>\n",
       "    <tr style=\"text-align: right;\">\n",
       "      <th></th>\n",
       "      <th>Time</th>\n",
       "      <th>Stack Voltage(V)</th>\n",
       "      <th>Stack Current(A)</th>\n",
       "      <th>Stack Temperatur(C)</th>\n",
       "      <th>Istwert Durchfluss</th>\n",
       "      <th>Totalisator</th>\n",
       "    </tr>\n",
       "  </thead>\n",
       "  <tbody>\n",
       "    <tr>\n",
       "      <th>0</th>\n",
       "      <td>2025-08-20 13:01:58</td>\n",
       "      <td>19,769231</td>\n",
       "      <td>0,000000</td>\n",
       "      <td>27</td>\n",
       "      <td>0</td>\n",
       "      <td>8,624094</td>\n",
       "    </tr>\n",
       "    <tr>\n",
       "      <th>1</th>\n",
       "      <td>2025-08-20 13:01:58</td>\n",
       "      <td>19,769231</td>\n",
       "      <td>0,000000</td>\n",
       "      <td>27</td>\n",
       "      <td>0</td>\n",
       "      <td>8,624094</td>\n",
       "    </tr>\n",
       "    <tr>\n",
       "      <th>2</th>\n",
       "      <td>2025-08-20 13:01:58</td>\n",
       "      <td>19,769231</td>\n",
       "      <td>0,000000</td>\n",
       "      <td>27</td>\n",
       "      <td>0</td>\n",
       "      <td>8,624094</td>\n",
       "    </tr>\n",
       "    <tr>\n",
       "      <th>3</th>\n",
       "      <td>2025-08-20 13:01:59</td>\n",
       "      <td>19,769231</td>\n",
       "      <td>0,000000</td>\n",
       "      <td>27</td>\n",
       "      <td>0</td>\n",
       "      <td>8,624094</td>\n",
       "    </tr>\n",
       "    <tr>\n",
       "      <th>4</th>\n",
       "      <td>2025-08-20 13:01:59</td>\n",
       "      <td>19,769231</td>\n",
       "      <td>0,000000</td>\n",
       "      <td>27</td>\n",
       "      <td>0</td>\n",
       "      <td>8,624094</td>\n",
       "    </tr>\n",
       "    <tr>\n",
       "      <th>...</th>\n",
       "      <td>...</td>\n",
       "      <td>...</td>\n",
       "      <td>...</td>\n",
       "      <td>...</td>\n",
       "      <td>...</td>\n",
       "      <td>...</td>\n",
       "    </tr>\n",
       "    <tr>\n",
       "      <th>2760</th>\n",
       "      <td>2025-08-20 13:14:16</td>\n",
       "      <td>16,615385</td>\n",
       "      <td>0,400000</td>\n",
       "      <td>30</td>\n",
       "      <td>0</td>\n",
       "      <td>8,624094</td>\n",
       "    </tr>\n",
       "    <tr>\n",
       "      <th>2761</th>\n",
       "      <td>2025-08-20 13:14:17</td>\n",
       "      <td>16,615385</td>\n",
       "      <td>0,400000</td>\n",
       "      <td>30</td>\n",
       "      <td>0</td>\n",
       "      <td>8,624094</td>\n",
       "    </tr>\n",
       "    <tr>\n",
       "      <th>2762</th>\n",
       "      <td>2025-08-20 13:14:17</td>\n",
       "      <td>16,615385</td>\n",
       "      <td>0,400000</td>\n",
       "      <td>30</td>\n",
       "      <td>0</td>\n",
       "      <td>8,624094</td>\n",
       "    </tr>\n",
       "    <tr>\n",
       "      <th>2763</th>\n",
       "      <td>2025-08-20 13:14:17</td>\n",
       "      <td>16,615385</td>\n",
       "      <td>0,400000</td>\n",
       "      <td>30</td>\n",
       "      <td>0</td>\n",
       "      <td>8,624094</td>\n",
       "    </tr>\n",
       "    <tr>\n",
       "      <th>2764</th>\n",
       "      <td>2025-08-20 13:14:18</td>\n",
       "      <td>16,615385</td>\n",
       "      <td>0,400000</td>\n",
       "      <td>30</td>\n",
       "      <td>0</td>\n",
       "      <td>8,624094</td>\n",
       "    </tr>\n",
       "  </tbody>\n",
       "</table>\n",
       "<p>2765 rows × 6 columns</p>\n",
       "</div>"
      ],
      "text/plain": [
       "                    Time Stack Voltage(V) Stack Current(A)  \\\n",
       "0    2025-08-20 13:01:58       19,769231         0,000000    \n",
       "1    2025-08-20 13:01:58       19,769231         0,000000    \n",
       "2    2025-08-20 13:01:58       19,769231         0,000000    \n",
       "3    2025-08-20 13:01:59       19,769231         0,000000    \n",
       "4    2025-08-20 13:01:59       19,769231         0,000000    \n",
       "...                  ...              ...              ...   \n",
       "2760 2025-08-20 13:14:16       16,615385         0,400000    \n",
       "2761 2025-08-20 13:14:17       16,615385         0,400000    \n",
       "2762 2025-08-20 13:14:17       16,615385         0,400000    \n",
       "2763 2025-08-20 13:14:17       16,615385         0,400000    \n",
       "2764 2025-08-20 13:14:18       16,615385         0,400000    \n",
       "\n",
       "      Stack Temperatur(C) Istwert Durchfluss Totalisator  \n",
       "0                      27                  0    8,624094  \n",
       "1                      27                  0    8,624094  \n",
       "2                      27                  0    8,624094  \n",
       "3                      27                  0    8,624094  \n",
       "4                      27                  0    8,624094  \n",
       "...                   ...                ...         ...  \n",
       "2760                   30                  0    8,624094  \n",
       "2761                   30                  0    8,624094  \n",
       "2762                   30                  0    8,624094  \n",
       "2763                   30                  0    8,624094  \n",
       "2764                   30                  0    8,624094  \n",
       "\n",
       "[2765 rows x 6 columns]"
      ]
     },
     "execution_count": 24,
     "metadata": {},
     "output_type": "execute_result"
    }
   ],
   "source": [
    "df"
   ]
  },
  {
   "cell_type": "code",
   "execution_count": null,
   "metadata": {},
   "outputs": [],
   "source": []
  }
 ],
 "metadata": {
  "kernelspec": {
   "display_name": "Python 3",
   "language": "python",
   "name": "python3"
  },
  "language_info": {
   "codemirror_mode": {
    "name": "ipython",
    "version": 3
   },
   "file_extension": ".py",
   "mimetype": "text/x-python",
   "name": "python",
   "nbconvert_exporter": "python",
   "pygments_lexer": "ipython3",
   "version": "3.7.9"
  }
 },
 "nbformat": 4,
 "nbformat_minor": 4
}
