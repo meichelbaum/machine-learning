{
 "cells": [
  {
   "cell_type": "markdown",
   "metadata": {},
   "source": [
    "## Importing the libraries"
   ]
  },
  {
   "cell_type": "code",
   "execution_count": 10,
   "metadata": {},
   "outputs": [],
   "source": [
    "import numpy as np\n",
    "import matplotlib.pyplot as plt\n",
    "import pandas as pd"
   ]
  },
  {
   "cell_type": "markdown",
   "metadata": {},
   "source": [
    "## Importing the dataset"
   ]
  },
  {
   "cell_type": "code",
   "execution_count": 11,
   "metadata": {},
   "outputs": [],
   "source": [
    "from Preprocessor4 import get_single_dataset\n",
    "training_set = get_single_dataset(\"training_data/Typ1_FFT20Pkt1/test\")\n",
    "X_train = training_set.iloc[:, 2:].values\n",
    "y_train = training_set.iloc[:, 1].values\n",
    "test_set =  get_single_dataset(\"training_data/Typ1_FFT20Pkt1/test\")\n",
    "X_test = test_set.iloc[:, 2:].values\n",
    "y_test = test_set.iloc[:, 1].values"
   ]
  },
  {
   "cell_type": "markdown",
   "metadata": {},
   "source": [
    "## Training the Decision Tree Regression model"
   ]
  },
  {
   "cell_type": "code",
   "execution_count": 12,
   "metadata": {},
   "outputs": [
    {
     "data": {
      "text/plain": [
       "DecisionTreeRegressor(random_state=0)"
      ]
     },
     "execution_count": 12,
     "metadata": {},
     "output_type": "execute_result"
    }
   ],
   "source": [
    "from sklearn.tree import DecisionTreeRegressor\n",
    "regressor = DecisionTreeRegressor(random_state = 0)\n",
    "regressor.fit(X_train, y_train)"
   ]
  },
  {
   "cell_type": "markdown",
   "metadata": {},
   "source": [
    "## Predicting the Test set results on independent test set"
   ]
  },
  {
   "cell_type": "code",
   "execution_count": 13,
   "metadata": {},
   "outputs": [],
   "source": [
    "y_pred = regressor.predict(X_test)"
   ]
  },
  {
   "cell_type": "code",
   "execution_count": 14,
   "metadata": {},
   "outputs": [
    {
     "data": {
      "image/png": "[encoded data removed]",
      "text/plain": [
       "<Figure size 432x288 with 1 Axes>"
      ]
     },
     "metadata": {
      "needs_background": "light"
     },
     "output_type": "display_data"
    }
   ],
   "source": [
    "plt.scatter(y_pred, y_test)\n",
    "plt.xlabel(\"Vorhersage U (V)\")\n",
    "plt.ylabel(\"Experiment U (V)\")\n",
    "plt.plot([13, 20], [13, 20])\n",
    "plt.show()"
   ]
  },
  {
   "cell_type": "code",
   "execution_count": 15,
   "metadata": {},
   "outputs": [
    {
     "data": {
      "text/plain": [
       "1.0"
      ]
     },
     "execution_count": 15,
     "metadata": {},
     "output_type": "execute_result"
    }
   ],
   "source": [
    "from sklearn.metrics import r2_score\n",
    "r2_score(y_test, y_pred)"
   ]
  },
  {
   "cell_type": "code",
   "execution_count": 16,
   "metadata": {},
   "outputs": [
    {
     "name": "stdout",
     "output_type": "stream",
     "text": [
      "2.3368550995215405e-14\n"
     ]
    }
   ],
   "source": [
    "from sklearn.metrics import mean_squared_error\n",
    "import math\n",
    "mse = mean_squared_error(y_test, y_pred)\n",
    "rmse = math.sqrt(mse)\n",
    "print(rmse)"
   ]
  },
  {
   "cell_type": "code",
   "execution_count": 17,
   "metadata": {},
   "outputs": [],
   "source": [
    "z = np.arange(1, 2766)"
   ]
  },
  {
   "cell_type": "code",
   "execution_count": 18,
   "metadata": {},
   "outputs": [
    {
     "data": {
      "image/png": "[encoded data removed]",
      "text/plain": [
       "<Figure size 432x288 with 1 Axes>"
      ]
     },
     "metadata": {
      "needs_background": "light"
     },
     "output_type": "display_data"
    }
   ],
   "source": [
    "plt.scatter(z, y_pred, label='Vorhersage')\n",
    "plt.scatter(z, y_test, label='Experiment')\n",
    "plt.xlabel(\"Zeit (a.u.)\")\n",
    "plt.ylabel(\"U (V)\")\n",
    "plt.legend(loc='best')\n",
    "plt.show()"
   ]
  },
  {
   "cell_type": "code",
   "execution_count": 15,
   "metadata": {},
   "outputs": [
    {
     "data": {
      "text/plain": [
       "array([[ 0.00000000e+00,  2.70000000e+01, -1.08575793e-02],\n",
       "       [ 0.00000000e+00,  2.70000000e+01, -9.88886575e-03],\n",
       "       [ 0.00000000e+00,  2.70000000e+01, -8.64118078e-03],\n",
       "       ...,\n",
       "       [ 4.00000000e-01,  3.00000000e+01,  2.23249851e-01],\n",
       "       [ 4.00000000e-01,  3.00000000e+01,  2.23514799e-01],\n",
       "       [ 4.00000000e-01,  3.00000000e+01,  2.23988732e-01]])"
      ]
     },
     "execution_count": 15,
     "metadata": {},
     "output_type": "execute_result"
    }
   ],
   "source": [
    "X_train"
   ]
  },
  {
   "cell_type": "code",
   "execution_count": 16,
   "metadata": {},
   "outputs": [
    {
     "data": {
      "text/plain": [
       "array([[ 2.6       , 34.        ,  0.3418287 ],\n",
       "       [ 2.6       , 34.        ,  0.32797399],\n",
       "       [ 2.6       , 34.        ,  0.31382379],\n",
       "       [ 2.6       , 34.        ,  0.29945205],\n",
       "       [ 0.        , 34.        ,  0.28493524],\n",
       "       [ 0.        , 34.        ,  0.27035157],\n",
       "       [ 0.        , 34.        ,  0.25578009],\n",
       "       [ 0.        , 34.        ,  0.24129977],\n",
       "       [ 0.        , 34.        ,  0.22698868],\n",
       "       [ 0.        , 34.        ,  0.21292308],\n",
       "       [ 0.        , 34.        ,  0.19917658],\n",
       "       [ 0.        , 34.        ,  0.18581935],\n",
       "       [ 0.        , 34.        ,  0.17291733],\n",
       "       [ 0.        , 34.        ,  0.16053156],\n",
       "       [ 0.        , 34.        ,  0.14871752],\n",
       "       [ 0.        , 34.        ,  0.13752461],\n",
       "       [ 0.        , 34.        ,  0.12699565],\n",
       "       [ 0.        , 34.        ,  0.11716652],\n",
       "       [ 0.        , 34.        ,  0.10806587],\n",
       "       [ 0.        , 34.        ,  0.09971495],\n",
       "       [ 0.        , 34.        ,  0.09212749],\n",
       "       [ 0.        , 34.        ,  0.08530977],\n",
       "       [ 0.        , 34.        ,  0.07926068],\n",
       "       [ 0.        , 34.        ,  0.07397196],\n",
       "       [ 0.        , 34.        ,  0.0694285 ],\n",
       "       [ 0.        , 34.        ,  0.0656087 ],\n",
       "       [ 0.        , 34.        ,  0.06248494],\n",
       "       [ 0.        , 34.        ,  0.06002413],\n",
       "       [ 0.        , 34.        ,  0.05818828],\n",
       "       [ 0.        , 34.        ,  0.05693512],\n",
       "       [ 0.        , 34.        ,  0.05621881],\n",
       "       [ 0.        , 34.        ,  0.05599065],\n",
       "       [ 0.        , 34.        ,  0.05619977],\n",
       "       [ 0.        , 34.        ,  0.05679389],\n",
       "       [ 0.        , 34.        ,  0.05772002],\n",
       "       [ 0.        , 34.        ,  0.05892519],\n",
       "       [ 0.        , 34.        ,  0.06035711],\n",
       "       [ 0.        , 34.        ,  0.06196485],\n",
       "       [ 0.        , 34.        ,  0.0636994 ],\n",
       "       [ 0.        , 34.        ,  0.06551426],\n",
       "       [ 0.        , 34.        ,  0.06736589],\n",
       "       [ 0.        , 34.        ,  0.06921419],\n",
       "       [ 0.        , 34.        ,  0.07102279],\n",
       "       [ 0.        , 34.        ,  0.0727594 ],\n",
       "       [ 0.        , 34.        ,  0.07439598],\n",
       "       [ 0.        , 34.        ,  0.07590889],\n",
       "       [ 0.        , 34.        ,  0.07727895],\n",
       "       [ 0.        , 34.        ,  0.07849143],\n",
       "       [ 0.        , 34.        ,  0.07953601],\n",
       "       [ 0.        , 34.        ,  0.08040655],\n",
       "       [ 0.        , 34.        ,  0.08110097],\n",
       "       [ 0.        , 34.        ,  0.08162096],\n",
       "       [ 0.        , 34.        ,  0.08197168],\n",
       "       [ 0.        , 34.        ,  0.0821614 ],\n",
       "       [ 0.        , 34.        ,  0.08220113],\n",
       "       [ 0.        , 34.        ,  0.08210425],\n",
       "       [ 0.        , 34.        ,  0.08188603],\n",
       "       [ 0.        , 34.        ,  0.08156324],\n",
       "       [ 0.        , 34.        ,  0.08115372],\n",
       "       [ 0.        , 34.        ,  0.08067593],\n",
       "       [ 0.        , 34.        ,  0.08014857],\n",
       "       [ 0.        , 34.        ,  0.07959015],\n",
       "       [ 0.        , 34.        ,  0.07901868],\n",
       "       [ 0.        , 34.        ,  0.07845128],\n",
       "       [ 0.        , 33.        ,  0.07790392],\n",
       "       [ 0.        , 33.        ,  0.07739112],\n",
       "       [ 0.        , 33.        ,  0.07692579],\n",
       "       [ 0.        , 33.        ,  0.07651901],\n",
       "       [ 0.        , 33.        ,  0.07617992],\n",
       "       [ 0.        , 33.        ,  0.07591563],\n",
       "       [ 0.        , 33.        ,  0.07573121],\n",
       "       [ 0.        , 33.        ,  0.07562964],\n",
       "       [ 0.        , 33.        ,  0.07561191],\n",
       "       [ 0.        , 33.        ,  0.07567708],\n",
       "       [ 0.        , 33.        ,  0.07582238],\n",
       "       [ 0.        , 33.        ,  0.0760434 ],\n",
       "       [ 0.        , 33.        ,  0.07633423],\n",
       "       [ 0.        , 33.        ,  0.07668768],\n",
       "       [ 0.        , 33.        ,  0.07709546],\n",
       "       [ 0.        , 33.        ,  0.07754845],\n",
       "       [ 0.        , 33.        ,  0.07803689],\n",
       "       [ 0.        , 33.        ,  0.07855062],\n",
       "       [ 0.        , 33.        ,  0.07907935],\n",
       "       [ 0.        , 33.        ,  0.07961282],\n",
       "       [ 0.        , 32.        ,  0.08014106],\n",
       "       [ 0.        , 32.        ,  0.08065456],\n",
       "       [ 0.        , 32.        ,  0.08114447],\n",
       "       [ 0.        , 32.        ,  0.08160272],\n",
       "       [ 0.        , 32.        ,  0.08202221],\n",
       "       [ 0.        , 32.        ,  0.08239686],\n",
       "       [ 0.        , 32.        ,  0.08272172],\n",
       "       [ 0.        , 32.        ,  0.08299305],\n",
       "       [ 0.        , 32.        ,  0.08320832],\n",
       "       [ 0.        , 32.        ,  0.08336621],\n",
       "       [ 0.        , 32.        ,  0.08346661],\n",
       "       [ 0.        , 32.        ,  0.08351058],\n",
       "       [ 0.        , 32.        ,  0.08350027],\n",
       "       [ 0.        , 32.        ,  0.08343884],\n",
       "       [ 0.        , 32.        ,  0.08333037],\n",
       "       [ 0.        , 32.        ,  0.08317974],\n",
       "       [ 0.        , 32.        ,  0.08299249],\n",
       "       [ 0.        , 32.        ,  0.08277472],\n",
       "       [ 0.        , 32.        ,  0.08253291],\n",
       "       [ 0.        , 32.        ,  0.08227383],\n",
       "       [ 0.        , 32.        ,  0.08200433],\n",
       "       [ 0.        , 32.        ,  0.08173129],\n",
       "       [ 0.        , 32.        ,  0.08146139],\n",
       "       [ 0.        , 32.        ,  0.08120108],\n",
       "       [ 0.        , 32.        ,  0.0809564 ],\n",
       "       [ 0.        , 32.        ,  0.0807329 ],\n",
       "       [ 0.        , 32.        ,  0.08053558],\n",
       "       [ 0.        , 32.        ,  0.08036876],\n",
       "       [ 0.        , 32.        ,  0.08023605],\n",
       "       [ 0.        , 32.        ,  0.08014034],\n",
       "       [ 0.        , 32.        ,  0.08008371],\n",
       "       [ 0.        , 32.        ,  0.08006745],\n",
       "       [ 0.        , 32.        ,  0.08009207],\n",
       "       [ 0.        , 32.        ,  0.0801573 ],\n",
       "       [ 0.        , 32.        ,  0.08026213],\n",
       "       [ 0.        , 32.        ,  0.08040486],\n",
       "       [ 0.        , 32.        ,  0.08058314],\n",
       "       [ 0.        , 32.        ,  0.08079404],\n",
       "       [ 0.        , 32.        ,  0.08103411],\n",
       "       [ 0.        , 32.        ,  0.08129949],\n",
       "       [ 0.        , 32.        ,  0.08158595],\n",
       "       [ 0.        , 32.        ,  0.08188901],\n",
       "       [ 0.        , 32.        ,  0.082204  ],\n",
       "       [ 0.        , 32.        ,  0.08252617],\n",
       "       [ 0.        , 32.        ,  0.08285075],\n",
       "       [ 0.        , 32.        ,  0.08317305],\n",
       "       [ 0.        , 32.        ,  0.08348852],\n",
       "       [ 0.        , 32.        ,  0.08379285],\n",
       "       [ 0.        , 32.        ,  0.08408198],\n",
       "       [ 0.        , 32.        ,  0.08435223],\n",
       "       [ 0.        , 32.        ,  0.08460027],\n",
       "       [ 0.        , 32.        ,  0.08482322],\n",
       "       [ 0.        , 32.        ,  0.08501866],\n",
       "       [ 0.        , 32.        ,  0.08518465],\n",
       "       [ 0.        , 32.        ,  0.08531974],\n",
       "       [ 0.        , 32.        ,  0.08542301],\n",
       "       [ 0.        , 32.        ,  0.085494  ],\n",
       "       [ 0.        , 32.        ,  0.08553276],\n",
       "       [ 0.        , 32.        ,  0.08553982],\n",
       "       [ 0.        , 32.        ,  0.08551613],\n",
       "       [ 0.        , 32.        ,  0.08546307],\n",
       "       [ 0.        , 32.        ,  0.0853824 ],\n",
       "       [ 0.        , 32.        ,  0.08527621],\n",
       "       [ 0.        , 32.        ,  0.08514688],\n",
       "       [ 0.        , 32.        ,  0.08499704],\n",
       "       [ 0.        , 32.        ,  0.08482951],\n",
       "       [ 0.        , 32.        ,  0.08464727],\n",
       "       [ 0.        , 32.        ,  0.08445338],\n",
       "       [ 0.        , 32.        ,  0.08425095],\n",
       "       [ 0.        , 32.        ,  0.08404309],\n",
       "       [ 0.        , 32.        ,  0.08383285],\n",
       "       [ 0.        , 32.        ,  0.08362318],\n",
       "       [ 0.        , 32.        ,  0.08341692],\n",
       "       [ 0.        , 32.        ,  0.0832167 ],\n",
       "       [ 0.        , 32.        ,  0.08302496],\n",
       "       [ 0.        , 32.        ,  0.0828439 ],\n",
       "       [ 0.        , 32.        ,  0.08267546],\n",
       "       [ 0.        , 32.        ,  0.08252127],\n",
       "       [ 0.        , 32.        ,  0.0823827 ],\n",
       "       [ 0.        , 32.        ,  0.08226078],\n",
       "       [ 0.        , 32.        ,  0.08215626],\n",
       "       [ 0.        , 32.        ,  0.08206954],\n",
       "       [ 0.        , 32.        ,  0.08200074],\n",
       "       [ 0.        , 32.        ,  0.08194969],\n",
       "       [ 0.        , 32.        ,  0.08191591],\n",
       "       [ 0.        , 32.        ,  0.08189868],\n",
       "       [ 0.        , 32.        ,  0.08189703],\n",
       "       [ 0.        , 32.        ,  0.0819098 ],\n",
       "       [ 0.        , 32.        ,  0.08193561],\n",
       "       [ 0.        , 32.        ,  0.08197296],\n",
       "       [ 0.        , 32.        ,  0.08202021],\n",
       "       [ 0.        , 32.        ,  0.08207565],\n",
       "       [ 0.        , 32.        ,  0.08213752],\n",
       "       [ 0.        , 31.        ,  0.08220404],\n",
       "       [ 0.        , 31.        ,  0.08227346],\n",
       "       [ 0.        , 31.        ,  0.08234407],\n",
       "       [ 0.        , 31.        ,  0.08241428],\n",
       "       [ 0.        , 31.        ,  0.08248259],\n",
       "       [ 0.        , 31.        ,  0.08254765],\n",
       "       [ 0.        , 31.        ,  0.08260829],\n",
       "       [ 0.        , 31.        ,  0.08266351],\n",
       "       [ 0.        , 31.        ,  0.08271252],\n",
       "       [ 0.        , 31.        ,  0.08275476],\n",
       "       [ 0.        , 31.        ,  0.08278986],\n",
       "       [ 0.        , 31.        ,  0.08281769],\n",
       "       [ 0.        , 31.        ,  0.08283835],\n",
       "       [ 0.        , 31.        ,  0.08285212],\n",
       "       [ 0.        , 31.        ,  0.0828595 ],\n",
       "       [ 0.        , 31.        ,  0.08286116],\n",
       "       [ 0.        , 31.        ,  0.08285793],\n",
       "       [ 0.        , 31.        ,  0.08285076],\n",
       "       [ 0.        , 31.        ,  0.08284073],\n",
       "       [ 0.        , 31.        ,  0.08282896],\n",
       "       [ 0.        , 31.        ,  0.08281663],\n",
       "       [ 0.        , 31.        ,  0.08280492],\n",
       "       [ 0.        , 31.        ,  0.08279497]])"
      ]
     },
     "execution_count": 16,
     "metadata": {},
     "output_type": "execute_result"
    }
   ],
   "source": [
    "X_test[1300:1500]"
   ]
  },
  {
   "cell_type": "code",
   "execution_count": 12,
   "metadata": {},
   "outputs": [
    {
     "data": {
      "text/plain": [
       "array([19.769231, 19.769231, 19.769231, ..., 16.615385, 16.615385,\n",
       "       16.615385])"
      ]
     },
     "execution_count": 12,
     "metadata": {},
     "output_type": "execute_result"
    }
   ],
   "source": [
    "y_train"
   ]
  },
  {
   "cell_type": "code",
   "execution_count": 13,
   "metadata": {},
   "outputs": [
    {
     "data": {
      "text/plain": [
       "array([19.769231, 19.769231, 19.769231, ..., 16.615385, 16.615385,\n",
       "       16.615385])"
      ]
     },
     "execution_count": 13,
     "metadata": {},
     "output_type": "execute_result"
    }
   ],
   "source": [
    "y_test"
   ]
  },
  {
   "cell_type": "code",
   "execution_count": 14,
   "metadata": {},
   "outputs": [
    {
     "data": {
      "text/plain": [
       "array([19.769231, 19.769231, 19.769231, ..., 16.615385, 16.615385,\n",
       "       16.615385])"
      ]
     },
     "execution_count": 14,
     "metadata": {},
     "output_type": "execute_result"
    }
   ],
   "source": [
    "y_pred"
   ]
  },
  {
   "cell_type": "code",
   "execution_count": null,
   "metadata": {},
   "outputs": [],
   "source": []
  }
 ],
 "metadata": {
  "kernelspec": {
   "display_name": "Python 3",
   "language": "python",
   "name": "python3"
  },
  "language_info": {
   "codemirror_mode": {
    "name": "ipython",
    "version": 3
   },
   "file_extension": ".py",
   "mimetype": "text/x-python",
   "name": "python",
   "nbconvert_exporter": "python",
   "pygments_lexer": "ipython3",
   "version": "3.8.5"
  }
 },
 "nbformat": 4,
 "nbformat_minor": 4
}
